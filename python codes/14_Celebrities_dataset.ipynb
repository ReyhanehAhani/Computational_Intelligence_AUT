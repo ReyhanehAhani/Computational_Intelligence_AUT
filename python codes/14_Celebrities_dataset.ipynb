{
 "cells": [
  {
   "cell_type": "markdown",
   "id": "66064608",
   "metadata": {},
   "source": [
    "# 14 Celebrities dataset"
   ]
  },
  {
   "cell_type": "markdown",
   "id": "38821a7f",
   "metadata": {},
   "source": [
    "## Importing packages"
   ]
  },
  {
   "cell_type": "code",
   "execution_count": null,
   "id": "0ca7f806",
   "metadata": {},
   "outputs": [],
   "source": [
    "import cv2\n",
    "import requests\n",
    "import zipfile\n",
    "import os\n",
    "import keras\n",
    "import numpy as np\n",
    "from PIL import Image\n",
    "from io import BytesIO\n",
    "import tensorflow as tf\n",
    "import matplotlib.pyplot as plt\n",
    "from keras import backend as K\n",
    "from keras.preprocessing import image\n",
    "from keras.models import Model, Sequential\n",
    "from keras.preprocessing.image import ImageDataGenerator\n",
    "from keras.layers import Activation, Dropout, Flatten, Dense\n",
    "from keras.layers import Conv2D, MaxPooling2D, BatchNormalization, GlobalAveragePooling2D"
   ]
  },
  {
   "cell_type": "code",
   "execution_count": null,
   "id": "8604f835",
   "metadata": {},
   "outputs": [],
   "source": [
    "base_dir = \"../input/14-celebrity-faces-dataset\"\n",
    "celeb14 = os.path.join(base_dir, \"14-celebrity-faces-dataset.zip\")\n",
    "\n",
    "with zipfile.ZipFile(celeb14, \"r\") as z:\n",
    "    z.extractall('.')"
   ]
  },
  {
   "cell_type": "code",
   "execution_count": null,
   "id": "e8ba068e",
   "metadata": {},
   "outputs": [],
   "source": [
    "data_dir = '/kaggle/working/14-celebrity-faces-dataset/data'"
   ]
  },
  {
   "cell_type": "markdown",
   "id": "59753447",
   "metadata": {},
   "source": [
    "## Model parameters"
   ]
  },
  {
   "cell_type": "code",
   "execution_count": null,
   "id": "95d0ae0d",
   "metadata": {},
   "outputs": [],
   "source": [
    "img_width, img_height = 224, 224\n",
    "\n",
    "train_data_dir = os.path.join(data_dir, 'train')\n",
    "validation_data_dir = os.path.join(data_dir, 'val')\n",
    "nb_train_samples = 220\n",
    "nb_validation_samples = 70\n",
    "epochs = 40\n",
    "batch_size = 16\n",
    "numclasses = 14"
   ]
  },
  {
   "cell_type": "markdown",
   "id": "eb9de041",
   "metadata": {},
   "source": [
    "## Preprocessing"
   ]
  },
  {
   "cell_type": "code",
   "execution_count": null,
   "id": "a265ea9a",
   "metadata": {},
   "outputs": [],
   "source": [
    "# this is the augmentation configuration we will use for training\n",
    "train_datagen = ImageDataGenerator(\n",
    "    rescale=1./ 255,\n",
    "    rotation_range=10,  \n",
    "    zoom_range=0.1,  \n",
    "    width_shift_range=0.1,\n",
    "    height_shift_range=0.1,\n",
    "    vertical_flip=False,\n",
    "    horizontal_flip=True)\n",
    "\n",
    "\n",
    "test_datagen = ImageDataGenerator(rescale=1./255)\n",
    "\n",
    "train_generator = train_datagen.flow_from_directory(\n",
    "    train_data_dir,\n",
    "    target_size=(img_width, img_height),\n",
    "    batch_size=batch_size,\n",
    "    class_mode='categorical')\n",
    "\n",
    "validation_generator = test_datagen.flow_from_directory(\n",
    "    validation_data_dir,\n",
    "    target_size=(img_width, img_height),\n",
    "    batch_size=batch_size,\n",
    "    class_mode='categorical')"
   ]
  },
  {
   "cell_type": "code",
   "execution_count": null,
   "id": "406130f7",
   "metadata": {},
   "outputs": [],
   "source": [
    "if K.image_data_format() == 'channels_first':\n",
    "    input_shape = (3, img_width, img_height)\n",
    "else:\n",
    "    input_shape = (img_width, img_height, 3)"
   ]
  },
  {
   "cell_type": "markdown",
   "id": "bd9a4dec",
   "metadata": {},
   "source": [
    "### choose one of the models and run its cells"
   ]
  },
  {
   "cell_type": "markdown",
   "id": "3acd7f1d",
   "metadata": {},
   "source": [
    "## DenseNet model"
   ]
  },
  {
   "cell_type": "code",
   "execution_count": null,
   "id": "a4bf5931",
   "metadata": {},
   "outputs": [],
   "source": [
    "\"\"\"densenet = tf.keras.applications.DenseNet121(\n",
    "    weights='/kaggle/input/densenet-keras/DenseNet-BC-121-32-no-top.h5',\n",
    "    include_top=False,\n",
    "    input_shape=input_shape)\"\"\"\n",
    "densenet = tf.keras.applications.DenseNet201(\n",
    "    weights='imagenet',\n",
    "    include_top=False,\n",
    "    input_shape=input_shape)\n",
    "densenet.trainable = True\n",
    "def build_model():\n",
    "    model = Sequential()\n",
    "    model.add(densenet)\n",
    "    model.add(GlobalAveragePooling2D())\n",
    "    model.add(Dropout(0.5))\n",
    "    model.add(Dense(512, activation='relu')) #sigmoid\n",
    "    model.add(Dropout(0.3))\n",
    "    model.add(Dense(numclasses, activation='softmax'))\n",
    "    \n",
    "    model.compile(\n",
    "        loss='categorical_crossentropy',\n",
    "        optimizer=keras.optimizers.adam_v2.Adam(lr=1e-4), #1e-4\n",
    "        metrics=['categorical_accuracy'])\n",
    "    \n",
    "    return model\n",
    "\n",
    "model = build_model()\n",
    "model.summary()"
   ]
  },
  {
   "cell_type": "code",
   "execution_count": null,
   "id": "2c908321",
   "metadata": {},
   "outputs": [],
   "source": [
    "history = model.fit_generator(\n",
    "    train_generator,\n",
    "    steps_per_epoch=nb_train_samples // batch_size,\n",
    "    epochs=epochs,\n",
    "    validation_data=validation_generator,\n",
    "    validation_steps=nb_validation_samples // batch_size)"
   ]
  },
  {
   "cell_type": "code",
   "execution_count": null,
   "id": "f0e0633e",
   "metadata": {},
   "outputs": [],
   "source": [
    "# Get training and test loss histories\n",
    "training_loss = history.history['loss']\n",
    "validation_loss = history.history['val_loss']\n",
    "\n",
    "# Create count of the number of epochs\n",
    "epoch_count = range(1, len(training_loss) + 1)\n",
    "\n",
    "fig=plt.figure(figsize=(12, 4))\n",
    "# Visualize loss history\n",
    "fig.add_subplot(121)\n",
    "plt.plot(epoch_count, training_loss)\n",
    "plt.plot(epoch_count, validation_loss)\n",
    "plt.legend(['Training Loss', 'Validation Loss'])\n",
    "plt.xlabel('Epoch')\n",
    "plt.ylabel('Training Loss/Acc')\n",
    "\n",
    "# Get training and test loss histories\n",
    "val_acc = history.history['val_categorical_accuracy']\n",
    "training_acc = history.history['categorical_accuracy']\n",
    "\n",
    "# Create count of the number of epochs\n",
    "epoch_count = range(1, len(val_acc) + 1)\n",
    "\n",
    "# Visualize loss history\n",
    "fig.add_subplot(122)\n",
    "plt.plot(epoch_count, training_acc)\n",
    "plt.plot(epoch_count, val_acc)\n",
    "plt.legend(['Training Accuracy', 'Validation Accuracy'])\n",
    "plt.xlabel('Epoch')\n",
    "plt.ylabel('Accuracy')\n",
    "plt.show()"
   ]
  },
  {
   "cell_type": "code",
   "execution_count": null,
   "id": "5e09ec81",
   "metadata": {},
   "outputs": [],
   "source": [
    "saveweight = 'celebriytag_weight.h5'\n",
    "model.save_weights(saveweight)"
   ]
  },
  {
   "cell_type": "code",
   "execution_count": null,
   "id": "7ecdd475",
   "metadata": {},
   "outputs": [],
   "source": [
    "labels = ['anne_hathaway', 'arnold_schwarzenegger', 'ben_afflek', 'dwayne_johnson', 'elton_john', 'jerry_seinfeld', 'kate_beckinsale', 'keanu_reeves', 'lauren_cohan', 'madonna', 'mindy_kaling', 'simon_pegg', 'sofia_vergara', 'will_smith']\n",
    "test_imgs = []\n",
    "for celebrity in labels:\n",
    "    tmp = (os.listdir(f'/kaggle/working/14-celebrity-faces-dataset/data/val/{celebrity}'))\n",
    "    tmp2 = []\n",
    "    for s in tmp:\n",
    "        tmp2.append(f'{celebrity}/'+ s)\n",
    "    \n",
    "    test_imgs.extend(tmp2)"
   ]
  },
  {
   "cell_type": "code",
   "execution_count": null,
   "id": "2fc6fd70",
   "metadata": {},
   "outputs": [],
   "source": [
    "err_cnt = 0\n",
    "count = 0\n",
    "for test in test_imgs:\n",
    "    test_img = os.path.join(validation_data_dir, test)\n",
    "    img = image.load_img(test_img, target_size=(img_width, img_height))\n",
    "    x = image.img_to_array(img)\n",
    "    x = np.expand_dims(x, axis=0)\n",
    "    x /= 255.\n",
    "    classes = model.predict(x)\n",
    "    result = np.squeeze(classes)\n",
    "    result_indices = np.argmax(result)\n",
    "    count+=1\n",
    "    if labels[result_indices] != test.split(\"/\")[0]:\n",
    "        err_cnt += 1\n",
    "#     print(labels[result_indices], test.split(\"/\")[0])\n",
    "#     print('-------------------------')\n",
    "print(err_cnt, count)\n",
    "print(f'Accuracy: {(count-err_cnt)/count}')"
   ]
  },
  {
   "cell_type": "markdown",
   "id": "49c06ec9",
   "metadata": {},
   "source": [
    "## ResnetModel"
   ]
  },
  {
   "cell_type": "code",
   "execution_count": null,
   "id": "92248328",
   "metadata": {},
   "outputs": [],
   "source": [
    "def resnet50tl(input_shape, outclass, sigma='sigmoid'):\n",
    "    base_model = None\n",
    "    base_model = keras.applications.resnet50.ResNet50(weights=None, include_top=False, input_shape=input_shape)\n",
    "    base_model.load_weights(resnet50weight)\n",
    "    \n",
    "    top_model = Sequential()\n",
    "#     top_model.add(Flatten(input_shape=base_model.output_shape[1:]))\n",
    "    top_model.add(GlobalAveragePooling2D(input_shape=base_model.output_shape[1:]))\n",
    "    top_model.add(Dense(2048, activation='relu'))\n",
    "    top_model.add(Dropout(0.5))\n",
    "    \n",
    "    top_model.add(Dense(1024, activation='relu'))\n",
    "    top_model.add(Dropout(0.5)) \n",
    "    \n",
    "    top_model.add(Dense(outclass, activation=sigma))\n",
    "\n",
    "    model = None\n",
    "    model = Model(inputs=base_model.input, outputs=top_model(base_model.output))\n",
    "    \n",
    "    return model\n",
    "\n",
    "\n",
    "model = resnet50tl(input_shape, numclasses, 'softmax')\n",
    "opt = keras.optimizers.Adam(lr=3e-5, decay=1e-7)\n",
    "model.compile(loss='categorical_crossentropy',\n",
    "              optimizer=opt,\n",
    "              metrics=['accuracy'])\n",
    "\n",
    "model.summary()"
   ]
  },
  {
   "cell_type": "code",
   "execution_count": null,
   "id": "68b20e2c",
   "metadata": {},
   "outputs": [],
   "source": [
    "history = model.fit_generator(\n",
    "    train_generator,\n",
    "    steps_per_epoch=nb_train_samples // batch_size,\n",
    "    epochs=epochs,\n",
    "    validation_data=validation_generator,\n",
    "    validation_steps=nb_validation_samples // batch_size)"
   ]
  },
  {
   "cell_type": "code",
   "execution_count": null,
   "id": "37e0281d",
   "metadata": {},
   "outputs": [],
   "source": [
    "# Get training and test loss histories\n",
    "training_loss = history.history['loss']\n",
    "validation_loss = history.history['val_loss']\n",
    "\n",
    "# Create count of the number of epochs\n",
    "epoch_count = range(1, len(training_loss) + 1)\n",
    "\n",
    "fig=plt.figure(figsize=(12, 4))\n",
    "# Visualize loss history\n",
    "fig.add_subplot(121)\n",
    "plt.plot(epoch_count, training_loss)\n",
    "plt.plot(epoch_count, validation_loss)\n",
    "plt.legend(['Training Loss', 'Validation Loss'])\n",
    "plt.xlabel('Epoch')\n",
    "plt.ylabel('Training Loss/Acc')\n",
    "\n",
    "# Get training and test loss histories\n",
    "val_acc = history.history['val_acc']\n",
    "training_acc = history.history['acc']\n",
    "\n",
    "# Create count of the number of epochs\n",
    "epoch_count = range(1, len(val_acc) + 1)\n",
    "\n",
    "# Visualize loss history\n",
    "fig.add_subplot(122)\n",
    "plt.plot(epoch_count, training_acc)\n",
    "plt.plot(epoch_count, val_acc)\n",
    "plt.legend(['Training Accuracy', 'Validation Accuracy'])\n",
    "plt.xlabel('Epoch')\n",
    "plt.ylabel('Accuracy')\n",
    "plt.show()"
   ]
  },
  {
   "cell_type": "code",
   "execution_count": null,
   "id": "4898b389",
   "metadata": {},
   "outputs": [],
   "source": [
    "saveweight = 'celebriytag_weight.h5'\n",
    "model.save_weights(saveweight)"
   ]
  },
  {
   "cell_type": "code",
   "execution_count": null,
   "id": "c5d2ef8a",
   "metadata": {},
   "outputs": [],
   "source": [
    "labels = ['anne_hathaway', 'arnold_schwarzenegger', 'ben_afflek', 'dwayne_johnson', 'elton_john', 'jerry_seinfeld', 'kate_beckinsale', 'keanu_reeves', 'lauren_cohan', 'madonna', 'mindy_kaling', 'simon_pegg', 'sofia_vergara', 'will_smith']\n",
    "test_imgs = []\n",
    "for celebrity in labels:\n",
    "    tmp = (os.listdir(f'/kaggle/working/14-celebrity-faces-dataset/data/val/{celebrity}'))\n",
    "    tmp2 = []\n",
    "    for s in tmp:\n",
    "        tmp2.append(f'{celebrity}/'+ s)\n",
    "    \n",
    "    test_imgs.extend(tmp2)"
   ]
  },
  {
   "cell_type": "code",
   "execution_count": null,
   "id": "292c2867",
   "metadata": {},
   "outputs": [],
   "source": [
    "err_cnt = 0\n",
    "count = 0\n",
    "for test in test_imgs:\n",
    "    test_img = os.path.join(validation_data_dir, test)\n",
    "    img = image.load_img(test_img, target_size=(img_width, img_height))\n",
    "    x = image.img_to_array(img)\n",
    "    x = np.expand_dims(x, axis=0)\n",
    "    x /= 255.\n",
    "    classes = model.predict(x)\n",
    "    result = np.squeeze(classes)\n",
    "    result_indices = np.argmax(result)\n",
    "    count+=1\n",
    "    if labels[result_indices] != test.split(\"/\")[0]:\n",
    "        err_cnt += 1\n",
    "#     print(labels[result_indices], test.split(\"/\")[0])\n",
    "#     print('-------------------------')\n",
    "# print(err_cnt, count)\n",
    "print(f'Accuracy: {(count-err_cnt)/count}')"
   ]
  }
 ],
 "metadata": {
  "kernelspec": {
   "display_name": "Python 3 (ipykernel)",
   "language": "python",
   "name": "python3"
  },
  "language_info": {
   "codemirror_mode": {
    "name": "ipython",
    "version": 3
   },
   "file_extension": ".py",
   "mimetype": "text/x-python",
   "name": "python",
   "nbconvert_exporter": "python",
   "pygments_lexer": "ipython3",
   "version": "3.9.12"
  }
 },
 "nbformat": 4,
 "nbformat_minor": 5
}
