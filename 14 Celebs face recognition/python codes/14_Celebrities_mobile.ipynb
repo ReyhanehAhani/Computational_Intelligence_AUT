{
 "cells": [
  {
   "cell_type": "markdown",
   "metadata": {},
   "source": [
    "# 14_Celebrities_mobile"
   ]
  },
  {
   "cell_type": "markdown",
   "metadata": {},
   "source": [
    "## Importing packages"
   ]
  },
  {
   "cell_type": "code",
   "execution_count": 88,
   "metadata": {
    "execution": {
     "iopub.execute_input": "2023-01-14T16:41:29.451902Z",
     "iopub.status.busy": "2023-01-14T16:41:29.451503Z",
     "iopub.status.idle": "2023-01-14T16:41:29.458616Z",
     "shell.execute_reply": "2023-01-14T16:41:29.457501Z",
     "shell.execute_reply.started": "2023-01-14T16:41:29.451841Z"
    }
   },
   "outputs": [],
   "source": [
    "import requests\n",
    "import zipfile\n",
    "import tensorflow as tf\n",
    "import matplotlib.pyplot as plt\n",
    "from tensorflow import keras\n",
    "\n",
    "from keras import models, layers, optimizers, callbacks, losses\n",
    "from keras.preprocessing.image import ImageDataGenerator"
   ]
  },
  {
   "cell_type": "code",
   "execution_count": 89,
   "metadata": {
    "execution": {
     "iopub.execute_input": "2023-01-14T16:41:29.476825Z",
     "iopub.status.busy": "2023-01-14T16:41:29.476159Z",
     "iopub.status.idle": "2023-01-14T16:41:29.614698Z",
     "shell.execute_reply": "2023-01-14T16:41:29.613647Z",
     "shell.execute_reply.started": "2023-01-14T16:41:29.476798Z"
    }
   },
   "outputs": [],
   "source": [
    "base_dir = \"../input/14-celebrity-faces-dataset\"\n",
    "celeb14 = os.path.join(base_dir, \"14-celebrity-faces-dataset.zip\")\n",
    "\n",
    "with zipfile.ZipFile(celeb14, \"r\") as z:\n",
    "    z.extractall('.')"
   ]
  },
  {
   "cell_type": "markdown",
   "metadata": {},
   "source": [
    "## Model Parameters"
   ]
  },
  {
   "cell_type": "code",
   "execution_count": 91,
   "metadata": {
    "_uuid": "aa0c9ecd43c4828b2a714948d3478c67383a9bda",
    "execution": {
     "iopub.execute_input": "2023-01-14T16:41:30.471029Z",
     "iopub.status.busy": "2023-01-14T16:41:30.470645Z",
     "iopub.status.idle": "2023-01-14T16:41:30.476955Z",
     "shell.execute_reply": "2023-01-14T16:41:30.475904Z",
     "shell.execute_reply.started": "2023-01-14T16:41:30.470995Z"
    }
   },
   "outputs": [],
   "source": [
    "img_width, img_height = 224, 224\n",
    "\n",
    "train_data_dir = os.path.join(data_dir, 'train')\n",
    "validation_data_dir = os.path.join(data_dir, 'val')\n",
    "nb_train_samples = 220\n",
    "nb_validation_samples = 70\n",
    "epochs = 50\n",
    "batch_size = 16\n",
    "numclasses = 14"
   ]
  },
  {
   "cell_type": "markdown",
   "metadata": {},
   "source": [
    "## Processing images"
   ]
  },
  {
   "cell_type": "code",
   "execution_count": 92,
   "metadata": {
    "_uuid": "f9f680ed21e84ed9cbbb4464a2ad4ff2cdc98f5b",
    "execution": {
     "iopub.execute_input": "2023-01-14T16:41:30.888053Z",
     "iopub.status.busy": "2023-01-14T16:41:30.887675Z",
     "iopub.status.idle": "2023-01-14T16:41:31.106490Z",
     "shell.execute_reply": "2023-01-14T16:41:31.105308Z",
     "shell.execute_reply.started": "2023-01-14T16:41:30.888022Z"
    },
    "scrolled": true
   },
   "outputs": [
    {
     "name": "stdout",
     "output_type": "stream",
     "text": [
      "Found 220 images belonging to 14 classes.\n",
      "Found 70 images belonging to 14 classes.\n"
     ]
    }
   ],
   "source": [
    "# this is the augmentation configuration we will use for training\n",
    "train_datagen = ImageDataGenerator(\n",
    "    rescale=1./ 255,\n",
    "    rotation_range=10,  \n",
    "    zoom_range=0.1,  \n",
    "    width_shift_range=0.1,\n",
    "    height_shift_range=0.1,\n",
    "    vertical_flip=False,\n",
    "    horizontal_flip=True)\n",
    "\n",
    "test_datagen = ImageDataGenerator(rescale=1./255)\n",
    "\n",
    "train_generator = train_datagen.flow_from_directory(\n",
    "    train_data_dir,\n",
    "    target_size=(img_width, img_height),\n",
    "    batch_size=batch_size,\n",
    "    class_mode='categorical')\n",
    "\n",
    "validation_generator = test_datagen.flow_from_directory(\n",
    "    validation_data_dir,\n",
    "    target_size=(img_width, img_height),\n",
    "    batch_size=batch_size,\n",
    "    class_mode='categorical')"
   ]
  },
  {
   "cell_type": "code",
   "execution_count": 93,
   "metadata": {
    "_uuid": "d40ddf608386f6c1d2d4b1af4e0a6614e76d0a75",
    "execution": {
     "iopub.execute_input": "2023-01-14T16:41:50.932413Z",
     "iopub.status.busy": "2023-01-14T16:41:50.931799Z",
     "iopub.status.idle": "2023-01-14T16:41:50.937130Z",
     "shell.execute_reply": "2023-01-14T16:41:50.936111Z",
     "shell.execute_reply.started": "2023-01-14T16:41:50.932376Z"
    }
   },
   "outputs": [],
   "source": [
    "input_shape = (img_width, img_height, 3)"
   ]
  },
  {
   "cell_type": "markdown",
   "metadata": {},
   "source": [
    "## MobileNet Model"
   ]
  },
  {
   "cell_type": "code",
   "execution_count": 94,
   "metadata": {
    "execution": {
     "iopub.execute_input": "2023-01-14T16:41:51.367577Z",
     "iopub.status.busy": "2023-01-14T16:41:51.366709Z",
     "iopub.status.idle": "2023-01-14T16:41:51.375232Z",
     "shell.execute_reply": "2023-01-14T16:41:51.373819Z",
     "shell.execute_reply.started": "2023-01-14T16:41:51.367538Z"
    }
   },
   "outputs": [],
   "source": [
    "LR_START = 0.00001\n",
    "LR_MAX = 0.00005 * strategy.num_replicas_in_sync\n",
    "LR_MIN = 0.00001\n",
    "LR_RAMPUP_EPOCHS = 5\n",
    "LR_SUSTAIN_EPOCHS = 0\n",
    "LR_EXP_DECAY = .8\n",
    "\n",
    "    \n",
    "def scheduler(epoch):\n",
    "    if epoch < 4:\n",
    "        return 0.0005\n",
    "    elif epoch < 8:\n",
    "        return 0.0002\n",
    "    elif epoch < 12:\n",
    "        return 0.0001\n",
    "    elif epoch < 16:\n",
    "        return 0.00005\n",
    "    elif epoch < 20:\n",
    "        return 0.00002\n",
    "    else:\n",
    "        return 0.00001\n",
    "    \n",
    "lr_callback = tf.keras.callbacks.LearningRateScheduler(scheduler, verbose = True)"
   ]
  },
  {
   "cell_type": "code",
   "execution_count": 95,
   "metadata": {
    "_uuid": "53895b45df5d332dc364b3d9b0b058d28889de52",
    "execution": {
     "iopub.execute_input": "2023-01-14T16:41:51.782926Z",
     "iopub.status.busy": "2023-01-14T16:41:51.782503Z",
     "iopub.status.idle": "2023-01-14T16:41:52.489734Z",
     "shell.execute_reply": "2023-01-14T16:41:52.488790Z",
     "shell.execute_reply.started": "2023-01-14T16:41:51.782887Z"
    }
   },
   "outputs": [],
   "source": [
    "def mobile_net():\n",
    "    model_input = layers.Input(input_shape)\n",
    "    base_model = keras.applications.mobilenet.MobileNet(weights='imagenet',include_top=False,input_shape=input_shape,pooling=False)    \n",
    "    x = base_model(model_input)\n",
    "    x = layers.GlobalAveragePooling2D()(x)\n",
    "    x = layers.Flatten()(x)\n",
    "    x = layers.Dropout(0.6)(x)\n",
    "    model_output = layers.Dense(numclasses, activation='softmax')(x)\n",
    "    \n",
    "    model = models.Model(inputs=model_input, outputs=model_output)\n",
    "    \n",
    "    return model\n",
    "\n",
    "\n",
    "model = mobile_net()\n",
    "model.compile(loss=losses.CategoricalCrossentropy(),\n",
    "              optimizer=optimizers.rmsprop_v2.RMSprop(learning_rate=0.0005),\n",
    "              metrics=['accuracy'])"
   ]
  },
  {
   "cell_type": "code",
   "execution_count": null,
   "metadata": {
    "_uuid": "eb679a663f86cfcd737ef9413c469826c5f72a15",
    "execution": {
     "iopub.execute_input": "2023-01-14T16:41:52.492258Z",
     "iopub.status.busy": "2023-01-14T16:41:52.491844Z"
    }
   },
   "outputs": [
    {
     "name": "stdout",
     "output_type": "stream",
     "text": [
      "Epoch 1/50\n",
      "\n",
      "Epoch 00001: LearningRateScheduler setting learning rate to 1e-05.\n"
     ]
    }
   ],
   "source": [
    "history = model.fit(\n",
    "    train_generator,\n",
    "    steps_per_epoch=nb_train_samples // batch_size,\n",
    "    epochs=epochs,\n",
    "    validation_data=validation_generator,\n",
    "    validation_steps=nb_validation_samples // batch_size,\n",
    "    callbacks=[lr_callback])"
   ]
  },
  {
   "cell_type": "code",
   "execution_count": null,
   "metadata": {
    "_uuid": "4d0b0f3e58ae0b0901b09353d3f1b0a9db15a598"
   },
   "outputs": [],
   "source": [
    "# Get training and test loss histories\n",
    "val_acc = history.history['val_accuracy']\n",
    "training_acc = history.history['accuracy']\n",
    "\n",
    "# Create count of the number of epochs\n",
    "epoch_count = range(1, len(val_acc) + 1)\n",
    "\n",
    "# Visualize loss history\n",
    "plt.figure()\n",
    "plt.plot(epoch_count, val_acc)\n",
    "plt.plot(epoch_count, training_acc)\n",
    "plt.legend(['Validation Accuracy', 'Training Accuracy'])\n",
    "plt.xlabel('Epoch')\n",
    "plt.ylabel('Accuracy')\n",
    "plt.show();"
   ]
  }
 ],
 "metadata": {
  "kernelspec": {
   "display_name": "Python 3 (ipykernel)",
   "language": "python",
   "name": "python3"
  },
  "language_info": {
   "codemirror_mode": {
    "name": "ipython",
    "version": 3
   },
   "file_extension": ".py",
   "mimetype": "text/x-python",
   "name": "python",
   "nbconvert_exporter": "python",
   "pygments_lexer": "ipython3",
   "version": "3.9.12"
  }
 },
 "nbformat": 4,
 "nbformat_minor": 4
}
